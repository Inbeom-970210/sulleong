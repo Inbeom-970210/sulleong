{
 "cells": [
  {
   "cell_type": "markdown",
   "metadata": {},
   "source": [
    "# 그냥 한번 뉴럴네트웤 테스트...ㅎ\n",
    "* 데이터는 아래 데이터와, 그리고 각 사람당 리뷰한 맥주 데이터의 평균을 임베딩하여 추가함\n"
   ]
  },
  {
   "cell_type": "code",
   "execution_count": 2,
   "metadata": {},
   "outputs": [],
   "source": [
    "import pandas as pd\n",
    "import pandas.io.sql as sqlio\n",
    "import psycopg\n",
    "import numpy as np\n",
    "\n",
    "from joblib import load, dump"
   ]
  },
  {
   "cell_type": "markdown",
   "metadata": {},
   "source": [
    "### 데이터 설명\n",
    "* review 테이블 : 사용자가 맥주에 준 점수, 즉 y값 하나만을 위해 가져옴\n",
    "* beer 테이블 : 맥주 데이터\n",
    "* member 테이블 : 멤버 나이, 성별\n",
    "* member_mean 테이블 : 사용자의 현재까지 기록의 평균"
   ]
  },
  {
   "cell_type": "code",
   "execution_count": 3,
   "metadata": {},
   "outputs": [
    {
     "name": "stderr",
     "output_type": "stream",
     "text": [
      "C:\\Users\\SSAFY\\AppData\\Local\\Temp\\ipykernel_10580\\3287797993.py:9: UserWarning: pandas only supports SQLAlchemy connectable (engine/connection) or database string URI or sqlite3 DBAPI2 connection. Other DBAPI2 objects are not tested. Please consider using SQLAlchemy.\n",
      "  reviews = sqlio.read_sql_query(sql, conn)\n"
     ]
    }
   ],
   "source": [
    "conn = psycopg.connect(host=\"sulleong.site\", dbname=\"sulleong\", user=\"sulleong\", password=\"Sulleong104**\", port=5432)\n",
    "sql = '''SELECT b.abv AS beer_abv, b.brewer_id, b.country, b.large_category, b.sub_category, m.age, m.gender, ms.*, r.overall AS y\n",
    "    FROM member AS m\n",
    "    INNER JOIN review AS r ON r.member_id = m.id\n",
    "    INNER JOIN beer AS b ON r.beer_id = b.id\n",
    "    INNER JOIN learning_dataset AS ms ON r.member_id = ms.member_id\n",
    "    WHERE b.country IS NOT NULL;\n",
    "    '''  # WHERE b.id IN (1, 2, 3);\n",
    "reviews = sqlio.read_sql_query(sql, conn)\n",
    "conn.close()"
   ]
  },
  {
   "cell_type": "code",
   "execution_count": 4,
   "metadata": {},
   "outputs": [],
   "source": [
    "# 불러온 데이터, age랑 gender는 못써먹어서 일단 제외\n",
    "reviews = reviews.drop(columns=['member_id', 'age', 'gender'])\n",
    "\n",
    "# brewery가 너무 많아서 안될듯 ㅠㅠㅠ\n",
    "reviews = reviews.drop(columns='brewer_id')"
   ]
  },
  {
   "cell_type": "code",
   "execution_count": 5,
   "metadata": {},
   "outputs": [],
   "source": [
    "# 나누는것은 파이썬에서 해야하나...?ㅠㅠ\n",
    "review_notdiv = reviews[['beer_abv', 'country', 'large_category', 'sub_category', 'y']]\n",
    "review_todiv = reviews.drop(columns=['beer_abv', 'country', 'large_category', 'sub_category', 'y'])"
   ]
  },
  {
   "cell_type": "code",
   "execution_count": 6,
   "metadata": {},
   "outputs": [],
   "source": [
    "review_todiv = review_todiv.div(review_todiv['divide_size'], axis=0)\n",
    "review_todiv = review_todiv.drop(columns='divide_size')"
   ]
  },
  {
   "cell_type": "code",
   "execution_count": 7,
   "metadata": {},
   "outputs": [],
   "source": [
    "reviews = pd.concat([review_notdiv, review_todiv], axis=1)"
   ]
  },
  {
   "cell_type": "markdown",
   "metadata": {},
   "source": [
    "## 전처리\n",
    "* 가져온 데이터 전처리 함\n",
    "* 일단 무식하게 다 바꾸는 식으로 했는데\n",
    "  * 이제 beer_id에 따라 범주화 후 그 데이터를 사용자리뷰와 join시키는 식으로 활용해야 할 듯"
   ]
  },
  {
   "cell_type": "code",
   "execution_count": 8,
   "metadata": {},
   "outputs": [],
   "source": [
    "from sklearn.preprocessing import OneHotEncoder\n",
    "\n",
    "# 인코더 설정, none값은 그냥 0 박음\n",
    "encoder = OneHotEncoder(sparse_output=False, handle_unknown='ignore', dtype=int)\n",
    "\n",
    "# 숫자형 데이터\n",
    "numeric_data = reviews.drop(columns=['large_category', 'sub_category', 'country'])\n",
    "\n",
    "# 범주형 데이터 맞추고 변환\n",
    "encoder.fit(reviews[['large_category', 'sub_category', 'country']])\n",
    "encoding_beer = encoder.transform(reviews[['large_category', 'sub_category', 'country']])\n",
    "# # 다시 pandas 데이터프레임으로 변환해서 붙일수 있도록 만듬\n",
    "encoded_categories_beer = pd.DataFrame(encoding_beer, columns=encoder.get_feature_names_out(input_features=['large_category', 'sub_category', 'country']))\n",
    "# print(processed_beer_notscaled)\n",
    "reviews = pd.concat([numeric_data, encoded_categories_beer], axis=1)"
   ]
  },
  {
   "cell_type": "code",
   "execution_count": 8,
   "metadata": {},
   "outputs": [
    {
     "data": {
      "text/plain": [
       "['./beer_encoder.joblib']"
      ]
     },
     "execution_count": 8,
     "metadata": {},
     "output_type": "execute_result"
    }
   ],
   "source": [
    "dump(encoder, './beer_encoder.joblib')"
   ]
  },
  {
   "cell_type": "code",
   "execution_count": 9,
   "metadata": {},
   "outputs": [],
   "source": [
    "# abv에 null값 있음;;; 처리해야 함, 그냥 평균 넣음\n",
    "from sklearn.impute import SimpleImputer\n",
    "\n",
    "imp = SimpleImputer(missing_values=np.nan, strategy='mean')\n",
    "imp.fit(reviews['beer_abv'].values.reshape(-1, 1))\n",
    "reviews['beer_abv'] = imp.transform(reviews['beer_abv'].values.reshape(-1, 1))"
   ]
  },
  {
   "cell_type": "code",
   "execution_count": 10,
   "metadata": {},
   "outputs": [],
   "source": [
    "y = reviews['y']\n",
    "X = reviews.drop(columns=['y'])"
   ]
  },
  {
   "cell_type": "code",
   "execution_count": 11,
   "metadata": {},
   "outputs": [],
   "source": [
    "# 데이터 스케일링\n",
    "from sklearn.preprocessing import StandardScaler\n",
    "scaler = StandardScaler()\n",
    "X = scaler.fit_transform(X)"
   ]
  },
  {
   "cell_type": "code",
   "execution_count": 12,
   "metadata": {},
   "outputs": [
    {
     "data": {
      "text/plain": [
       "['./model_scaler.joblib']"
      ]
     },
     "execution_count": 12,
     "metadata": {},
     "output_type": "execute_result"
    }
   ],
   "source": [
    "dump(scaler, './model_scaler.joblib')"
   ]
  },
  {
   "cell_type": "code",
   "execution_count": 18,
   "metadata": {},
   "outputs": [
    {
     "data": {
      "text/plain": [
       "(array([], dtype=int64), array([], dtype=int64))"
      ]
     },
     "execution_count": 18,
     "metadata": {},
     "output_type": "execute_result"
    }
   ],
   "source": [
    "np.where(np.isnan(X))"
   ]
  },
  {
   "cell_type": "markdown",
   "metadata": {},
   "source": [
    "## 전처리가 모두 끝나면 regressor로 예측함"
   ]
  },
  {
   "cell_type": "code",
   "execution_count": 19,
   "metadata": {},
   "outputs": [
    {
     "name": "stderr",
     "output_type": "stream",
     "text": [
      "c:\\Users\\SSAFY\\Desktop\\realpjt\\S09P22A104\\recommend\\venv\\lib\\site-packages\\sklearn\\neural_network\\_multilayer_perceptron.py:691: ConvergenceWarning: Stochastic Optimizer: Maximum iterations (250) reached and the optimization hasn't converged yet.\n",
      "  warnings.warn(\n"
     ]
    }
   ],
   "source": [
    "from sklearn.neural_network import MLPRegressor\n",
    "\n",
    "# solver = ’adam’\n",
    "# alpha = 0.0001\n",
    "# batch_size = 200\n",
    "# learning_rate = 0.001\n",
    "\n",
    "regr = MLPRegressor(max_iter=250, hidden_layer_sizes=(50,50,30)).fit(X, y)"
   ]
  },
  {
   "cell_type": "code",
   "execution_count": 22,
   "metadata": {},
   "outputs": [
    {
     "data": {
      "text/plain": [
       "['./model_regressor.joblib']"
      ]
     },
     "execution_count": 22,
     "metadata": {},
     "output_type": "execute_result"
    }
   ],
   "source": [
    "# dump(regr, './model_regressor.joblib')\n",
    "regr = load('./model_regressor.joblib')"
   ]
  },
  {
   "cell_type": "code",
   "execution_count": 26,
   "metadata": {},
   "outputs": [
    {
     "data": {
      "text/plain": [
       "array([15.44460222, 14.0721475 , 15.40040175, 15.49860639, 17.04888018,\n",
       "       15.64762113, 13.74225976, 11.29997593, 11.4592582 , 14.38282757,\n",
       "       10.41384946, 14.49535821, 11.37318623, 13.47346987, 12.90725503])"
      ]
     },
     "execution_count": 26,
     "metadata": {},
     "output_type": "execute_result"
    }
   ],
   "source": [
    "regre.predict(X[:15])"
   ]
  },
  {
   "cell_type": "code",
   "execution_count": 21,
   "metadata": {},
   "outputs": [
    {
     "data": {
      "text/plain": [
       "0    13\n",
       "1    15\n",
       "2    11\n",
       "3    15\n",
       "4    18\n",
       "5    14\n",
       "6    14\n",
       "7    13\n",
       "8    13\n",
       "9     6\n",
       "Name: y, dtype: int64"
      ]
     },
     "execution_count": 21,
     "metadata": {},
     "output_type": "execute_result"
    }
   ],
   "source": [
    "y[:10]"
   ]
  }
 ],
 "metadata": {
  "kernelspec": {
   "display_name": "venv",
   "language": "python",
   "name": "python3"
  },
  "language_info": {
   "codemirror_mode": {
    "name": "ipython",
    "version": 3
   },
   "file_extension": ".py",
   "mimetype": "text/x-python",
   "name": "python",
   "nbconvert_exporter": "python",
   "pygments_lexer": "ipython3",
   "version": "3.9.13"
  },
  "orig_nbformat": 4
 },
 "nbformat": 4,
 "nbformat_minor": 2
}
