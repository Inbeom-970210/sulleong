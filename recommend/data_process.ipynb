{
 "cells": [
  {
   "cell_type": "markdown",
   "metadata": {},
   "source": [
    "# 데이터 확인용 파일\n",
    "* 리뷰 300만\n",
    "* 맥주 110369 개\n",
    "* 유저 약 3만\n",
    "  * 그중 약 1만명이 1개만 리뷰씀\n",
    "  * 리뷰 5개 이하인 사람은 약 2만명\n",
    "  * 그니까 리뷰가 5개 초과인 사람은 1만명정도"
   ]
  },
  {
   "cell_type": "code",
   "execution_count": 1,
   "metadata": {},
   "outputs": [],
   "source": [
    "import pandas as pd\n",
    "\n",
    "with open('C:/Users/SSAFY/Downloads/SNAP-Ratebeer.txt', encoding=\"cp1252\") as file:\n",
    "    lines = file.readlines()"
   ]
  },
  {
   "cell_type": "code",
   "execution_count": 2,
   "metadata": {},
   "outputs": [],
   "source": [
    "# 데이터 추출 및 전처리\n",
    "data = []\n",
    "current_beer = {}\n",
    "for line in lines:\n",
    "    if line.strip():  # 빈 줄이 아닌 경우\n",
    "        key, value = line.strip().split(':', 1)  # 첫번째 ':'만 스플릿에 이용함, 왜냐면 :를 쓴 글이 있음;\n",
    "        current_beer[key] = value\n",
    "    else:  # 빈 줄인 경우 현재 맥주 정보를 데이터에 추가하고 초기화\n",
    "        data.append(current_beer)\n",
    "        current_beer = {}\n",
    "\n",
    "# 마지막 맥주 정보를 추가\n",
    "if current_beer:\n",
    "    data.append(current_beer)\n",
    "\n",
    "# 데이터프레임으로 변환\n",
    "df = pd.DataFrame(data)"
   ]
  },
  {
   "cell_type": "code",
   "execution_count": 3,
   "metadata": {},
   "outputs": [
    {
     "name": "stderr",
     "output_type": "stream",
     "text": [
      "C:\\Users\\SSAFY\\AppData\\Local\\Temp\\ipykernel_20820\\1007964011.py:3: SettingWithCopyWarning: \n",
      "A value is trying to be set on a copy of a slice from a DataFrame.\n",
      "Try using .loc[row_indexer,col_indexer] = value instead\n",
      "\n",
      "See the caveats in the documentation: https://pandas.pydata.org/pandas-docs/stable/user_guide/indexing.html#returning-a-view-versus-a-copy\n",
      "  beer_df['count'] = beer_df.groupby(['beer/beerId'])['beer/beerId'].transform('count')\n",
      "C:\\Users\\SSAFY\\AppData\\Local\\Temp\\ipykernel_20820\\1007964011.py:4: SettingWithCopyWarning: \n",
      "A value is trying to be set on a copy of a slice from a DataFrame\n",
      "\n",
      "See the caveats in the documentation: https://pandas.pydata.org/pandas-docs/stable/user_guide/indexing.html#returning-a-view-versus-a-copy\n",
      "  beer_df.drop_duplicates(['beer/beerId'], inplace=True)\n"
     ]
    },
    {
     "data": {
      "text/html": [
       "<div>\n",
       "<style scoped>\n",
       "    .dataframe tbody tr th:only-of-type {\n",
       "        vertical-align: middle;\n",
       "    }\n",
       "\n",
       "    .dataframe tbody tr th {\n",
       "        vertical-align: top;\n",
       "    }\n",
       "\n",
       "    .dataframe thead th {\n",
       "        text-align: right;\n",
       "    }\n",
       "</style>\n",
       "<table border=\"1\" class=\"dataframe\">\n",
       "  <thead>\n",
       "    <tr style=\"text-align: right;\">\n",
       "      <th></th>\n",
       "      <th>beer/name</th>\n",
       "      <th>beer/beerId</th>\n",
       "      <th>beer/brewerId</th>\n",
       "      <th>beer/ABV</th>\n",
       "      <th>beer/style</th>\n",
       "      <th>count</th>\n",
       "    </tr>\n",
       "  </thead>\n",
       "  <tbody>\n",
       "    <tr>\n",
       "      <th>0</th>\n",
       "      <td>John Harvards Simcoe IPA</td>\n",
       "      <td>63836</td>\n",
       "      <td>8481</td>\n",
       "      <td>5.4</td>\n",
       "      <td>India Pale Ale &amp;#40;IPA&amp;#41;</td>\n",
       "      <td>2</td>\n",
       "    </tr>\n",
       "    <tr>\n",
       "      <th>2</th>\n",
       "      <td>John Harvards Cristal Pilsner</td>\n",
       "      <td>71716</td>\n",
       "      <td>8481</td>\n",
       "      <td>5</td>\n",
       "      <td>Bohemian Pilsener</td>\n",
       "      <td>1</td>\n",
       "    </tr>\n",
       "    <tr>\n",
       "      <th>3</th>\n",
       "      <td>John Harvards Fancy Lawnmower Beer</td>\n",
       "      <td>64125</td>\n",
       "      <td>8481</td>\n",
       "      <td>5.4</td>\n",
       "      <td>Kölsch</td>\n",
       "      <td>2</td>\n",
       "    </tr>\n",
       "    <tr>\n",
       "      <th>5</th>\n",
       "      <td>John Harvards Vanilla Black Velvet Stout</td>\n",
       "      <td>31544</td>\n",
       "      <td>8481</td>\n",
       "      <td>-</td>\n",
       "      <td>Sweet Stout</td>\n",
       "      <td>1</td>\n",
       "    </tr>\n",
       "    <tr>\n",
       "      <th>6</th>\n",
       "      <td>John Harvards American Brown Ale</td>\n",
       "      <td>71714</td>\n",
       "      <td>8481</td>\n",
       "      <td>-</td>\n",
       "      <td>Brown Ale</td>\n",
       "      <td>1</td>\n",
       "    </tr>\n",
       "    <tr>\n",
       "      <th>...</th>\n",
       "      <td>...</td>\n",
       "      <td>...</td>\n",
       "      <td>...</td>\n",
       "      <td>...</td>\n",
       "      <td>...</td>\n",
       "      <td>...</td>\n",
       "    </tr>\n",
       "    <tr>\n",
       "      <th>2924147</th>\n",
       "      <td>Oakhill Merry Maltings</td>\n",
       "      <td>31035</td>\n",
       "      <td>1028</td>\n",
       "      <td>4.8</td>\n",
       "      <td>Premium Bitter/ESB</td>\n",
       "      <td>1</td>\n",
       "    </tr>\n",
       "    <tr>\n",
       "      <th>2924148</th>\n",
       "      <td>Oakhill Best Bitter</td>\n",
       "      <td>5672</td>\n",
       "      <td>1028</td>\n",
       "      <td>4</td>\n",
       "      <td>Bitter</td>\n",
       "      <td>2</td>\n",
       "    </tr>\n",
       "    <tr>\n",
       "      <th>2924150</th>\n",
       "      <td>Oakhill Black Magic Stout</td>\n",
       "      <td>5675</td>\n",
       "      <td>1028</td>\n",
       "      <td>4.5</td>\n",
       "      <td>Dry Stout</td>\n",
       "      <td>4</td>\n",
       "    </tr>\n",
       "    <tr>\n",
       "      <th>2924154</th>\n",
       "      <td>Oakhill Mendip Twister</td>\n",
       "      <td>12240</td>\n",
       "      <td>1028</td>\n",
       "      <td>6.3</td>\n",
       "      <td>Stout</td>\n",
       "      <td>5</td>\n",
       "    </tr>\n",
       "    <tr>\n",
       "      <th>2924159</th>\n",
       "      <td>Oakhill Yeoman 1767 Strong Ale</td>\n",
       "      <td>5677</td>\n",
       "      <td>1028</td>\n",
       "      <td>5</td>\n",
       "      <td>Premium Bitter/ESB</td>\n",
       "      <td>4</td>\n",
       "    </tr>\n",
       "  </tbody>\n",
       "</table>\n",
       "<p>110369 rows × 6 columns</p>\n",
       "</div>"
      ],
      "text/plain": [
       "                                         beer/name beer/beerId beer/brewerId  \\\n",
       "0                         John Harvards Simcoe IPA       63836          8481   \n",
       "2                    John Harvards Cristal Pilsner       71716          8481   \n",
       "3               John Harvards Fancy Lawnmower Beer       64125          8481   \n",
       "5         John Harvards Vanilla Black Velvet Stout       31544          8481   \n",
       "6                 John Harvards American Brown Ale       71714          8481   \n",
       "...                                            ...         ...           ...   \n",
       "2924147                     Oakhill Merry Maltings       31035          1028   \n",
       "2924148                        Oakhill Best Bitter        5672          1028   \n",
       "2924150                  Oakhill Black Magic Stout        5675          1028   \n",
       "2924154                     Oakhill Mendip Twister       12240          1028   \n",
       "2924159             Oakhill Yeoman 1767 Strong Ale        5677          1028   \n",
       "\n",
       "        beer/ABV                     beer/style  count  \n",
       "0            5.4   India Pale Ale &#40;IPA&#41;      2  \n",
       "2              5              Bohemian Pilsener      1  \n",
       "3            5.4                         Kölsch      2  \n",
       "5              -                    Sweet Stout      1  \n",
       "6              -                      Brown Ale      1  \n",
       "...          ...                            ...    ...  \n",
       "2924147      4.8             Premium Bitter/ESB      1  \n",
       "2924148        4                         Bitter      2  \n",
       "2924150      4.5                      Dry Stout      4  \n",
       "2924154      6.3                          Stout      5  \n",
       "2924159        5             Premium Bitter/ESB      4  \n",
       "\n",
       "[110369 rows x 6 columns]"
      ]
     },
     "execution_count": 3,
     "metadata": {},
     "output_type": "execute_result"
    }
   ],
   "source": [
    "# beer_df = df[['beer/name', 'beer/beerId', 'beer/brewerId', 'beer/ABV', 'beer/style']].drop_duplicates()\n",
    "beer_df = df[['beer/name', 'beer/beerId', 'beer/brewerId', 'beer/ABV', 'beer/style']]\n",
    "beer_df['count'] = beer_df.groupby(['beer/beerId'])['beer/beerId'].transform('count')\n",
    "beer_df.drop_duplicates(['beer/beerId'], inplace=True)\n",
    "beer_df.reset_index(drop=True)\n",
    "\n",
    "beer_df"
   ]
  },
  {
   "cell_type": "code",
   "execution_count": 4,
   "metadata": {},
   "outputs": [
    {
     "name": "stderr",
     "output_type": "stream",
     "text": [
      "C:\\Users\\SSAFY\\AppData\\Local\\Temp\\ipykernel_20820\\2494058164.py:2: SettingWithCopyWarning: \n",
      "A value is trying to be set on a copy of a slice from a DataFrame.\n",
      "Try using .loc[row_indexer,col_indexer] = value instead\n",
      "\n",
      "See the caveats in the documentation: https://pandas.pydata.org/pandas-docs/stable/user_guide/indexing.html#returning-a-view-versus-a-copy\n",
      "  beer_df['beer/ABV'] = beer_df['beer/ABV'].astype(float)\n"
     ]
    }
   ],
   "source": [
    "beer_df.loc[beer_df['beer/ABV']  == ' -','beer/ABV'] = '0'\n",
    "beer_df['beer/ABV'] = beer_df['beer/ABV'].astype(float)"
   ]
  },
  {
   "cell_type": "markdown",
   "metadata": {},
   "source": [
    "## 알콜도수 시각화"
   ]
  },
  {
   "cell_type": "code",
   "execution_count": 5,
   "metadata": {},
   "outputs": [
    {
     "name": "stdout",
     "output_type": "stream",
     "text": [
      "[28824 20409 10493  7971  6816  4433  2903  1533  1275   864   447   263\n",
      "   252   229   207   137    70    51    28    19]\n"
     ]
    },
    {
     "data": {
      "image/png": "[encoded data removed]",
      "text/plain": [
       "<Figure size 640x480 with 1 Axes>"
      ]
     },
     "metadata": {},
     "output_type": "display_data"
    }
   ],
   "source": [
    "import matplotlib.pyplot as plt\n",
    "\n",
    "bins = [0, 1, 2, 3, 4, 5, 6, 7, 8, 9, 10, 11, 12, 13, 14, 15, 16, 17, 18, 19, 20]\n",
    "label = [0, 1, 2, 3, 4, 5, 6, 7, 8, 9, 10, 11, 12, 13, 14, 15, 16, 17, 18, 19]\n",
    "\n",
    "new = pd.cut(beer_df['beer/ABV'], bins=bins, labels=label)\n",
    "group_counts = new.value_counts()\n",
    "print(group_counts.values)\n",
    "\n",
    "plt.bar(group_counts.index, group_counts.values, color='purple')\n",
    "plt.xlabel('group')\n",
    "plt.ylabel('frequency')\n",
    "plt.title('abv proportion')\n",
    "plt.show()"
   ]
  },
  {
   "cell_type": "markdown",
   "metadata": {},
   "source": [
    "## 맥주 당 달린 리뷰 개수 시각화"
   ]
  },
  {
   "cell_type": "code",
   "execution_count": 34,
   "metadata": {},
   "outputs": [
    {
     "name": "stdout",
     "output_type": "stream",
     "text": [
      "[108902    886    326    119     69     28     20     12      5      2]\n"
     ]
    },
    {
     "data": {
      "image/png": "[encoded data removed]",
      "text/plain": [
       "<Figure size 640x480 with 1 Axes>"
      ]
     },
     "metadata": {},
     "output_type": "display_data"
    }
   ],
   "source": [
    "label = ['370', '740', '1110', '1480', '1850', '2220', '2590', '2960', '3330', '3700']  # 대충 370개씩 끊김\n",
    "\n",
    "new = pd.cut(beer_df['count'], 10, labels=label)\n",
    "group_counts = new.value_counts()\n",
    "print(group_counts.values)\n",
    "# print(type(group_counts.index))\n",
    "\n",
    "plt.bar(group_counts.index[:], group_counts.values[:], color='red')\n",
    "plt.xlabel('review')\n",
    "plt.ylabel('beer')\n",
    "plt.show()"
   ]
  },
  {
   "cell_type": "code",
   "execution_count": 28,
   "metadata": {},
   "outputs": [
    {
     "data": {
      "text/html": [
       "<div>\n",
       "<style scoped>\n",
       "    .dataframe tbody tr th:only-of-type {\n",
       "        vertical-align: middle;\n",
       "    }\n",
       "\n",
       "    .dataframe tbody tr th {\n",
       "        vertical-align: top;\n",
       "    }\n",
       "\n",
       "    .dataframe thead th {\n",
       "        text-align: right;\n",
       "    }\n",
       "</style>\n",
       "<table border=\"1\" class=\"dataframe\">\n",
       "  <thead>\n",
       "    <tr style=\"text-align: right;\">\n",
       "      <th></th>\n",
       "      <th>beer/name</th>\n",
       "      <th>beer/beerId</th>\n",
       "      <th>beer/brewerId</th>\n",
       "      <th>beer/ABV</th>\n",
       "      <th>beer/style</th>\n",
       "      <th>count</th>\n",
       "    </tr>\n",
       "  </thead>\n",
       "  <tbody>\n",
       "    <tr>\n",
       "      <th>0</th>\n",
       "      <td>John Harvards Simcoe IPA</td>\n",
       "      <td>63836</td>\n",
       "      <td>8481</td>\n",
       "      <td>5.4</td>\n",
       "      <td>India Pale Ale &amp;#40;IPA&amp;#41;</td>\n",
       "      <td>2</td>\n",
       "    </tr>\n",
       "    <tr>\n",
       "      <th>1</th>\n",
       "      <td>John Harvards Cristal Pilsner</td>\n",
       "      <td>71716</td>\n",
       "      <td>8481</td>\n",
       "      <td>5.0</td>\n",
       "      <td>Bohemian Pilsener</td>\n",
       "      <td>1</td>\n",
       "    </tr>\n",
       "    <tr>\n",
       "      <th>2</th>\n",
       "      <td>John Harvards Fancy Lawnmower Beer</td>\n",
       "      <td>64125</td>\n",
       "      <td>8481</td>\n",
       "      <td>5.4</td>\n",
       "      <td>Kölsch</td>\n",
       "      <td>2</td>\n",
       "    </tr>\n",
       "    <tr>\n",
       "      <th>3</th>\n",
       "      <td>John Harvards Vanilla Black Velvet Stout</td>\n",
       "      <td>31544</td>\n",
       "      <td>8481</td>\n",
       "      <td>0.0</td>\n",
       "      <td>Sweet Stout</td>\n",
       "      <td>1</td>\n",
       "    </tr>\n",
       "    <tr>\n",
       "      <th>4</th>\n",
       "      <td>John Harvards American Brown Ale</td>\n",
       "      <td>71714</td>\n",
       "      <td>8481</td>\n",
       "      <td>0.0</td>\n",
       "      <td>Brown Ale</td>\n",
       "      <td>1</td>\n",
       "    </tr>\n",
       "    <tr>\n",
       "      <th>...</th>\n",
       "      <td>...</td>\n",
       "      <td>...</td>\n",
       "      <td>...</td>\n",
       "      <td>...</td>\n",
       "      <td>...</td>\n",
       "      <td>...</td>\n",
       "    </tr>\n",
       "    <tr>\n",
       "      <th>108897</th>\n",
       "      <td>Oakhill Merry Maltings</td>\n",
       "      <td>31035</td>\n",
       "      <td>1028</td>\n",
       "      <td>4.8</td>\n",
       "      <td>Premium Bitter/ESB</td>\n",
       "      <td>1</td>\n",
       "    </tr>\n",
       "    <tr>\n",
       "      <th>108898</th>\n",
       "      <td>Oakhill Best Bitter</td>\n",
       "      <td>5672</td>\n",
       "      <td>1028</td>\n",
       "      <td>4.0</td>\n",
       "      <td>Bitter</td>\n",
       "      <td>2</td>\n",
       "    </tr>\n",
       "    <tr>\n",
       "      <th>108899</th>\n",
       "      <td>Oakhill Black Magic Stout</td>\n",
       "      <td>5675</td>\n",
       "      <td>1028</td>\n",
       "      <td>4.5</td>\n",
       "      <td>Dry Stout</td>\n",
       "      <td>4</td>\n",
       "    </tr>\n",
       "    <tr>\n",
       "      <th>108900</th>\n",
       "      <td>Oakhill Mendip Twister</td>\n",
       "      <td>12240</td>\n",
       "      <td>1028</td>\n",
       "      <td>6.3</td>\n",
       "      <td>Stout</td>\n",
       "      <td>5</td>\n",
       "    </tr>\n",
       "    <tr>\n",
       "      <th>108901</th>\n",
       "      <td>Oakhill Yeoman 1767 Strong Ale</td>\n",
       "      <td>5677</td>\n",
       "      <td>1028</td>\n",
       "      <td>5.0</td>\n",
       "      <td>Premium Bitter/ESB</td>\n",
       "      <td>4</td>\n",
       "    </tr>\n",
       "  </tbody>\n",
       "</table>\n",
       "<p>108902 rows × 6 columns</p>\n",
       "</div>"
      ],
      "text/plain": [
       "                                        beer/name beer/beerId beer/brewerId  \\\n",
       "0                        John Harvards Simcoe IPA       63836          8481   \n",
       "1                   John Harvards Cristal Pilsner       71716          8481   \n",
       "2              John Harvards Fancy Lawnmower Beer       64125          8481   \n",
       "3        John Harvards Vanilla Black Velvet Stout       31544          8481   \n",
       "4                John Harvards American Brown Ale       71714          8481   \n",
       "...                                           ...         ...           ...   \n",
       "108897                     Oakhill Merry Maltings       31035          1028   \n",
       "108898                        Oakhill Best Bitter        5672          1028   \n",
       "108899                  Oakhill Black Magic Stout        5675          1028   \n",
       "108900                     Oakhill Mendip Twister       12240          1028   \n",
       "108901             Oakhill Yeoman 1767 Strong Ale        5677          1028   \n",
       "\n",
       "        beer/ABV                     beer/style  count  \n",
       "0            5.4   India Pale Ale &#40;IPA&#41;      2  \n",
       "1            5.0              Bohemian Pilsener      1  \n",
       "2            5.4                         Kölsch      2  \n",
       "3            0.0                    Sweet Stout      1  \n",
       "4            0.0                      Brown Ale      1  \n",
       "...          ...                            ...    ...  \n",
       "108897       4.8             Premium Bitter/ESB      1  \n",
       "108898       4.0                         Bitter      2  \n",
       "108899       4.5                      Dry Stout      4  \n",
       "108900       6.3                          Stout      5  \n",
       "108901       5.0             Premium Bitter/ESB      4  \n",
       "\n",
       "[108902 rows x 6 columns]"
      ]
     },
     "execution_count": 28,
     "metadata": {},
     "output_type": "execute_result"
    }
   ],
   "source": [
    "filtered_df = beer_df[beer_df['count'] <= 370]\n",
    "filtered_df.reset_index(drop=True)"
   ]
  },
  {
   "cell_type": "code",
   "execution_count": 33,
   "metadata": {},
   "outputs": [
    {
     "name": "stdout",
     "output_type": "stream",
     "text": [
      "[98432  5272  1958  1077   640   478   337   283   228   197]\n"
     ]
    },
    {
     "data": {
      "image/png": "[encoded data removed]",
      "text/plain": [
       "<Figure size 640x480 with 1 Axes>"
      ]
     },
     "metadata": {},
     "output_type": "display_data"
    }
   ],
   "source": [
    "label = ['1', '2', '3', '4', '5', '6', '7', '8', '9', '10']  # 대충 37개씩 끊김\n",
    "\n",
    "new = pd.cut(filtered_df['count'], 10, labels=label)\n",
    "group_counts = new.value_counts()\n",
    "print(group_counts.values)\n",
    "# print(type(group_counts.index))\n",
    "\n",
    "plt.bar(group_counts.index, group_counts.values, color='red')\n",
    "plt.xlabel('review')\n",
    "plt.ylabel('beer')\n",
    "plt.show()"
   ]
  },
  {
   "cell_type": "markdown",
   "metadata": {},
   "source": [
    "## 이제 대충 봤으니 370개 이상인 데이터만 크롤링 하자"
   ]
  },
  {
   "cell_type": "code",
   "execution_count": 39,
   "metadata": {},
   "outputs": [],
   "source": [
    "filtered_df = beer_df[beer_df['count'] > 370]\n",
    "filtered_df = filtered_df.reset_index(drop=True)"
   ]
  },
  {
   "cell_type": "code",
   "execution_count": 49,
   "metadata": {},
   "outputs": [],
   "source": [
    "# 370개 이상 있는 맥주만 추려서 크롤링 할거임\n",
    "many_review_beer = list(filtered_df['beer/beerId'])\n",
    "for i in range(len(many_review_beer)):\n",
    "    many_review_beer[i] = int(many_review_beer[i])"
   ]
  }
 ],
 "metadata": {
  "kernelspec": {
   "display_name": "Python 3",
   "language": "python",
   "name": "python3"
  },
  "language_info": {
   "codemirror_mode": {
    "name": "ipython",
    "version": 3
   },
   "file_extension": ".py",
   "mimetype": "text/x-python",
   "name": "python",
   "nbconvert_exporter": "python",
   "pygments_lexer": "ipython3",
   "version": "3.9.13"
  },
  "orig_nbformat": 4
 },
 "nbformat": 4,
 "nbformat_minor": 2
}
